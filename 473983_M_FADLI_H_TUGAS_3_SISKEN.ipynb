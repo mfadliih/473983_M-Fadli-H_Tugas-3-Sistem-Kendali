{
  "nbformat": 4,
  "nbformat_minor": 0,
  "metadata": {
    "colab": {
      "provenance": []
    },
    "kernelspec": {
      "name": "python3",
      "display_name": "Python 3"
    },
    "language_info": {
      "name": "python"
    }
  },
  "cells": [
    {
      "cell_type": "markdown",
      "source": [
        "#MUHAMMAD FADLI HERNANDA\n",
        "#21/473983/PA/20447\n",
        "#TUGAS 3 SISTEM KENDALI"
      ],
      "metadata": {
        "id": "5L3Tb4S1PJff"
      }
    },
    {
      "cell_type": "code",
      "execution_count": null,
      "metadata": {
        "id": "-9do0ZEvhDBf"
      },
      "outputs": [],
      "source": [
        "!pip install tbcontrol"
      ]
    },
    {
      "cell_type": "code",
      "source": [
        "import sympy\n",
        "import tbcontrol\n",
        "from tbcontrol.symbolic import routh"
      ],
      "metadata": {
        "id": "x037ftbUhG7v"
      },
      "execution_count": 2,
      "outputs": []
    },
    {
      "cell_type": "code",
      "source": [
        "s = sympy.Symbol('s')\n",
        "K = sympy.Symbol('K')"
      ],
      "metadata": {
        "id": "oE026MkhhJu8"
      },
      "execution_count": 3,
      "outputs": []
    },
    {
      "cell_type": "markdown",
      "source": [
        "**Soal Nomor 1**"
      ],
      "metadata": {
        "id": "-8WeqX0nO4jz"
      }
    },
    {
      "cell_type": "markdown",
      "source": [
        "![Screenshot_20230228_035547.png](data:image/png;base64,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)"
      ],
      "metadata": {
        "id": "83QzDQ0xO_HD"
      }
    },
    {
      "cell_type": "code",
      "source": [
        "print(\"Nilai Polynomial\")\n",
        "p = 7*s**7 + 3*s**6 + 6*s**5 + 4*s**4 + 5*s**3 + 2*s**2 + s + K\n",
        "p = sympy.Poly(p, s)\n",
        "p"
      ],
      "metadata": {
        "id": "v9iN9EKvNjqy",
        "outputId": "4aeb07e5-97e1-4dd8-ca86-7320c713bb7c",
        "colab": {
          "base_uri": "https://localhost:8080/",
          "height": 56
        }
      },
      "execution_count": 4,
      "outputs": [
        {
          "output_type": "stream",
          "name": "stdout",
          "text": [
            "Nilai Polynomial\n"
          ]
        },
        {
          "output_type": "execute_result",
          "data": {
            "text/plain": [
              "Poly(7*s**7 + 3*s**6 + 6*s**5 + 4*s**4 + 5*s**3 + 2*s**2 + s + K, s, domain='ZZ[K]')"
            ],
            "text/latex": "$\\displaystyle \\operatorname{Poly}{\\left( 7 s^{7} + 3 s^{6} + 6 s^{5} + 4 s^{4} + 5 s^{3} + 2 s^{2} + s + K, s, domain=\\mathbb{Z}\\left[K\\right] \\right)}$"
          },
          "metadata": {},
          "execution_count": 4
        }
      ]
    },
    {
      "cell_type": "code",
      "source": [
        "print(\"Routh Table\")\n",
        "R = routh(sympy.Poly(p, s))\n",
        "R"
      ],
      "metadata": {
        "id": "JmjQLPxcNj0r",
        "outputId": "2d476c04-15b8-48b9-e520-50817714fc99",
        "colab": {
          "base_uri": "https://localhost:8080/",
          "height": 207
        }
      },
      "execution_count": 5,
      "outputs": [
        {
          "output_type": "stream",
          "name": "stdout",
          "text": [
            "Routh Table\n"
          ]
        },
        {
          "output_type": "execute_result",
          "data": {
            "text/plain": [
              "Matrix([\n",
              "[                                                            7,               6,         5, 1],\n",
              "[                                                            3,               4,         2, K],\n",
              "[                                                        -10/3,             1/3, 1 - 7*K/3, 0],\n",
              "[                                                        43/10, 29/10 - 21*K/10,         K, 0],\n",
              "[                                             111/43 - 70*K/43,     1 - 67*K/43,         0, 0],\n",
              "[                       (-147*K**2 + 148*K - 137)/(70*K - 111),               K,         0, 0],\n",
              "[(-343*K**3 + 739*K**2 - 648*K + 137)/(147*K**2 - 148*K + 137),               0,         0, 0],\n",
              "[                                                            K,               0,         0, 0]])"
            ],
            "text/latex": "$\\displaystyle \\left[\\begin{matrix}7 & 6 & 5 & 1\\\\3 & 4 & 2 & K\\\\- \\frac{10}{3} & \\frac{1}{3} & 1 - \\frac{7 K}{3} & 0\\\\\\frac{43}{10} & \\frac{29}{10} - \\frac{21 K}{10} & K & 0\\\\\\frac{111}{43} - \\frac{70 K}{43} & 1 - \\frac{67 K}{43} & 0 & 0\\\\\\frac{- 147 K^{2} + 148 K - 137}{70 K - 111} & K & 0 & 0\\\\\\frac{- 343 K^{3} + 739 K^{2} - 648 K + 137}{147 K^{2} - 148 K + 137} & 0 & 0 & 0\\\\K & 0 & 0 & 0\\end{matrix}\\right]$"
          },
          "metadata": {},
          "execution_count": 5
        }
      ]
    },
    {
      "cell_type": "code",
      "source": [
        "print(\"Nilai K\")\n",
        "sympy.solve([e > 0 for e in R[:, 0]], K)"
      ],
      "metadata": {
        "id": "pQGmCJ-5Nj-9",
        "outputId": "9f3cc506-fd7c-4330-8698-dd3f4e924bcd",
        "colab": {
          "base_uri": "https://localhost:8080/",
          "height": 55
        }
      },
      "execution_count": 6,
      "outputs": [
        {
          "output_type": "stream",
          "name": "stdout",
          "text": [
            "Nilai K\n"
          ]
        },
        {
          "output_type": "execute_result",
          "data": {
            "text/plain": [
              "False"
            ],
            "text/latex": "$\\displaystyle \\text{False}$"
          },
          "metadata": {},
          "execution_count": 6
        }
      ]
    },
    {
      "cell_type": "markdown",
      "source": [
        "**Soal Nomor 2**"
      ],
      "metadata": {
        "id": "SK6omU0fNbcI"
      }
    },
    {
      "cell_type": "markdown",
      "source": [
        "![Screenshot_20230228_034031.png](data:image/png;base64,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)"
      ],
      "metadata": {
        "id": "gEHXkbguNT0H"
      }
    },
    {
      "cell_type": "code",
      "source": [
        "print(\"Nilai Polynomial\")\n",
        "p = 4*s**4 + 3*s**3 + 2*s**2 +  s + 7\n",
        "p = sympy.Poly(p, s)\n",
        "p"
      ],
      "metadata": {
        "colab": {
          "base_uri": "https://localhost:8080/",
          "height": 56
        },
        "id": "ZtxEBJzihNdn",
        "outputId": "26baeeb9-ff3b-489d-81c7-d9dddf8c101e"
      },
      "execution_count": 7,
      "outputs": [
        {
          "output_type": "stream",
          "name": "stdout",
          "text": [
            "Nilai Polynomial\n"
          ]
        },
        {
          "output_type": "execute_result",
          "data": {
            "text/plain": [
              "Poly(4*s**4 + 3*s**3 + 2*s**2 + s + 7, s, domain='ZZ')"
            ],
            "text/latex": "$\\displaystyle \\operatorname{Poly}{\\left( 4 s^{4} + 3 s^{3} + 2 s^{2} + s + 7, s, domain=\\mathbb{Z} \\right)}$"
          },
          "metadata": {},
          "execution_count": 7
        }
      ]
    },
    {
      "cell_type": "code",
      "source": [
        "print(\"Routh Table\")\n",
        "R = routh(sympy.Poly(p, s))\n",
        "R"
      ],
      "metadata": {
        "colab": {
          "base_uri": "https://localhost:8080/",
          "height": 136
        },
        "id": "JHA3BNGjhWie",
        "outputId": "6bd21162-5ee9-43e3-d28d-dd41e5d8c45c"
      },
      "execution_count": 8,
      "outputs": [
        {
          "output_type": "stream",
          "name": "stdout",
          "text": [
            "Routh Table\n"
          ]
        },
        {
          "output_type": "execute_result",
          "data": {
            "text/plain": [
              "Matrix([\n",
              "[    4, 2, 7],\n",
              "[    3, 1, 0],\n",
              "[  2/3, 7, 0],\n",
              "[-61/2, 0, 0],\n",
              "[    7, 0, 0]])"
            ],
            "text/latex": "$\\displaystyle \\left[\\begin{matrix}4 & 2 & 7\\\\3 & 1 & 0\\\\\\frac{2}{3} & 7 & 0\\\\- \\frac{61}{2} & 0 & 0\\\\7 & 0 & 0\\end{matrix}\\right]$"
          },
          "metadata": {},
          "execution_count": 8
        }
      ]
    },
    {
      "cell_type": "code",
      "source": [
        "print(\"Nilai K\")\n",
        "sympy.solve([e > 0 for e in R[:, 0]], K)"
      ],
      "metadata": {
        "colab": {
          "base_uri": "https://localhost:8080/"
        },
        "id": "j-PNR-tYhbU8",
        "outputId": "733e6f79-f144-4a2e-d28f-c194d2e39fac"
      },
      "execution_count": 9,
      "outputs": [
        {
          "output_type": "stream",
          "name": "stdout",
          "text": [
            "Nilai K\n"
          ]
        },
        {
          "output_type": "execute_result",
          "data": {
            "text/plain": [
              "[]"
            ]
          },
          "metadata": {},
          "execution_count": 9
        }
      ]
    }
  ]
}